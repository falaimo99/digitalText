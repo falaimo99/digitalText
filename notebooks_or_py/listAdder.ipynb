{
 "cells": [
  {
   "cell_type": "code",
   "execution_count": 16,
   "metadata": {},
   "outputs": [
    {
     "name": "stdout",
     "output_type": "stream",
     "text": [
      "10\n",
      "psicologiadi1uomo\n",
      "progettofuturistadireclutamentoperlaprossimaguerra\n",
      "salaconferenzesonoesposticinquepannelli\n",
      "leforzeumane\n",
      "viaggiodigararà\n",
      "astraeilsottomarino\n",
      "unpiccologessoraffigurantemiriamchedorme\n",
      "decorazionedelcaffèaragno\n",
      "iprimitelai\n",
      "monumento\n"
     ]
    }
   ],
   "source": [
    "from bs4 import BeautifulSoup\n",
    "\n",
    "path = 'produced_data/francesco/visionarie.xml'\n",
    "# path2 = 'produced_data/visionarie.xml'\n",
    "\n",
    "with open(path, 'r', encoding='utf-8')as f:\n",
    "    f = f.read()\n",
    "    doc = BeautifulSoup(f, 'html.parser')\n",
    "\n",
    "element = doc.find_all('item')\n",
    "\n",
    "print(len(element))\n",
    "\n",
    "result = list()\n",
    "for i in element:\n",
    "    ids = i.get_text().lower().replace(' ','')\n",
    "    print(ids)\n",
    "    element = i.get_text()\n",
    "    template = f\"<item xml:id='{ids}'>{element}</item>\"\n",
    "    result.append(template)            \n",
    "\n",
    "deduplicated = list()\n",
    "for i in result:\n",
    "    if i not in deduplicated:\n",
    "        deduplicated.append(i)        \n",
    "\n",
    "\n",
    "with open('visionarieheaderitem.xml', 'w', encoding='utf-8') as f:\n",
    "    f.write(';'.join(deduplicated))"
   ]
  }
 ],
 "metadata": {
  "kernelspec": {
   "display_name": "Python 3",
   "language": "python",
   "name": "python3"
  },
  "language_info": {
   "codemirror_mode": {
    "name": "ipython",
    "version": 3
   },
   "file_extension": ".py",
   "mimetype": "text/x-python",
   "name": "python",
   "nbconvert_exporter": "python",
   "pygments_lexer": "ipython3",
   "version": "3.11.6"
  }
 },
 "nbformat": 4,
 "nbformat_minor": 2
}
