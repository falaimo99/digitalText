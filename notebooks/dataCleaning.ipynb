{
 "cells": [
  {
   "cell_type": "code",
   "execution_count": 2,
   "metadata": {},
   "outputs": [],
   "source": [
    "from bs4 import BeautifulSoup"
   ]
  },
  {
   "cell_type": "code",
   "execution_count": 14,
   "metadata": {},
   "outputs": [],
   "source": [
    "path = 'produced_data/raw_data/visionarie.xml'\n",
    "header = 'produced_data/header.xml'\n",
    "\n",
    "with open(header, 'r', encoding='utf-8') as f:\n",
    "    soupheader = BeautifulSoup(f, features='xml')\n",
    "\n",
    "with open(path, 'r', encoding='utf-8') as f:\n",
    "    soup = BeautifulSoup(f, features='xml')\n",
    "\n",
    "for i in soupheader.find_all('person'):\n",
    "    for x in soup.find_all('persName'):\n",
    "        # if i['xml:id'].lower() == x['id'].lower():\n",
    "        #     x['id'] = i['xml:id']\n",
    "\n"
   ]
  },
  {
   "cell_type": "code",
   "execution_count": null,
   "metadata": {},
   "outputs": [],
   "source": [
    "path = 'produced_data/raw_data/visionarie.xml'\n",
    "header = 'produced_data/header.xml'\n",
    "\n",
    "with open(header, 'r', encoding='utf-8') as f:\n",
    "\n",
    "    soup = BeautifulSoup(f, features='xml')\n",
    "\n",
    "    persName = [para.get_text() for para in soup.find_all('placeName')]\n",
    "\n",
    "    for i in soup.find_all('item'):\n",
    "        "
   ]
  }
 ],
 "metadata": {
  "kernelspec": {
   "display_name": "Python 3",
   "language": "python",
   "name": "python3"
  },
  "language_info": {
   "codemirror_mode": {
    "name": "ipython",
    "version": 3
   },
   "file_extension": ".py",
   "mimetype": "text/x-python",
   "name": "python",
   "nbconvert_exporter": "python",
   "pygments_lexer": "ipython3",
   "version": "3.11.6"
  }
 },
 "nbformat": 4,
 "nbformat_minor": 2
}
